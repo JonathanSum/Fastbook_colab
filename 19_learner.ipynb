{
  "nbformat": 4,
  "nbformat_minor": 0,
  "metadata": {
    "jupytext": {
      "split_at_heading": true
    },
    "kernelspec": {
      "display_name": "Python 3",
      "language": "python",
      "name": "python3"
    },
    "colab": {
      "name": "19_learner.ipynb",
      "provenance": [],
      "collapsed_sections": [
        "O8PEJPj39rhp",
        "Yd8BqVug9riJ",
        "R3Kqryo99rjL"
      ],
      "toc_visible": true,
      "include_colab_link": true
    },
    "accelerator": "GPU"
  },
  "cells": [
    {
      "cell_type": "markdown",
      "metadata": {
        "id": "view-in-github",
        "colab_type": "text"
      },
      "source": [
        "<a href=\"https://colab.research.google.com/github/JonathanSum/Fastbook_colab/blob/master/19_learner.ipynb\" target=\"_parent\"><img src=\"https://colab.research.google.com/assets/colab-badge.svg\" alt=\"Open In Colab\"/></a>"
      ]
    },
    {
      "cell_type": "code",
      "metadata": {
        "id": "U95SCI8c9rWq",
        "colab_type": "code",
        "colab": {
          "base_uri": "https://localhost:8080/",
          "height": 272
        },
        "outputId": "e783250c-3e36-4db4-9d26-abc47f506130"
      },
      "source": [
        "#hide\n",
        "!pip install -Uqq fastbook\n",
        "import fastbook\n",
        "fastbook.setup_book()"
      ],
      "execution_count": null,
      "outputs": [
        {
          "output_type": "stream",
          "text": [
            "\u001b[?25l\r\u001b[K     |███████                         | 10kB 24.3MB/s eta 0:00:01\r\u001b[K     |██████████████                  | 20kB 16.3MB/s eta 0:00:01\r\u001b[K     |█████████████████████           | 30kB 4.3MB/s eta 0:00:01\r\u001b[K     |████████████████████████████    | 40kB 5.6MB/s eta 0:00:01\r\u001b[K     |████████████████████████████████| 51kB 3.7MB/s \n",
            "\u001b[K     |████████████████████████████████| 61kB 7.9MB/s \n",
            "\u001b[K     |████████████████████████████████| 1.0MB 29.5MB/s \n",
            "\u001b[K     |████████████████████████████████| 358kB 57.5MB/s \n",
            "\u001b[K     |████████████████████████████████| 92kB 5.3MB/s \n",
            "\u001b[K     |████████████████████████████████| 40kB 6.6MB/s \n",
            "\u001b[K     |████████████████████████████████| 51kB 8.3MB/s \n",
            "\u001b[K     |████████████████████████████████| 61kB 9.4MB/s \n",
            "\u001b[K     |████████████████████████████████| 2.7MB 44.0MB/s \n",
            "\u001b[?25hGo to this URL in a browser: https://accounts.google.com/o/oauth2/auth?client_id=947318989803-6bn6qk8qdgf4n4g3pfee6491hc0brc4i.apps.googleusercontent.com&redirect_uri=urn%3aietf%3awg%3aoauth%3a2.0%3aoob&scope=email%20https%3a%2f%2fwww.googleapis.com%2fauth%2fdocs.test%20https%3a%2f%2fwww.googleapis.com%2fauth%2fdrive%20https%3a%2f%2fwww.googleapis.com%2fauth%2fdrive.photos.readonly%20https%3a%2f%2fwww.googleapis.com%2fauth%2fpeopleapi.readonly&response_type=code\n",
            "\n",
            "Enter your authorization code:\n",
            "··········\n",
            "Mounted at /content/gdrive\n"
          ],
          "name": "stdout"
        }
      ]
    },
    {
      "cell_type": "code",
      "metadata": {
        "id": "oZVOCrP09rXC",
        "colab_type": "code",
        "colab": {}
      },
      "source": [
        "#hide\n",
        "from fastbook import *"
      ],
      "execution_count": null,
      "outputs": []
    },
    {
      "cell_type": "markdown",
      "metadata": {
        "id": "cxJp_kgs9rXW",
        "colab_type": "text"
      },
      "source": [
        "# A fastai Learner from Scratch"
      ]
    },
    {
      "cell_type": "markdown",
      "metadata": {
        "id": "3FUECiHW9rXa",
        "colab_type": "text"
      },
      "source": [
        "This final chapter (other than the conclusion and the online chapters) is going to look a bit different. It contains far more code and far less prose than the previous chapters. We will introduce new Python keywords and libraries without discussing them. This chapter is meant to be the start of a significant research project for you. You see, we are going to implement many of the key pieces of the fastai and PyTorch APIs from scratch, building on nothing other than the components that we developed in <<chapter_foundations>>! The key goal here is to end up with your own `Learner` class, and some callbacks—enough to be able to train a model on Imagenette, including examples of each of the key techniques we've studied. On the way to building `Learner`, we will create our own version of `Module`, `Parameter`, and parallel `DataLoader` so you have a very good idea of what those PyTorch classes do.\n",
        "\n",
        "The end-of-chapter questionnaire is particularly important for this chapter. This is where we will be pointing you in the many interesting directions that you could take, using this chapter as your starting point. We suggest that you follow t along with this chapter on your computer, and do lots of experiments, web searches, and whatever else you need to understand what's going on. You've built up the skills and expertise to do this in the rest of this book, so we think you are going to do great!"
      ]
    },
    {
      "cell_type": "markdown",
      "metadata": {
        "id": "FFiceskt9rXe",
        "colab_type": "text"
      },
      "source": [
        "Let's begin by gathering (manually) some data."
      ]
    },
    {
      "cell_type": "markdown",
      "metadata": {
        "id": "AFQsMmHM9rXm",
        "colab_type": "text"
      },
      "source": [
        "## Data"
      ]
    },
    {
      "cell_type": "markdown",
      "metadata": {
        "id": "hYN4dSSY9rXo",
        "colab_type": "text"
      },
      "source": [
        "Have a look at the source to `untar_data` to see how it works. We'll use it here to access the 160-pixel version of Imagenette for use in this chapter:"
      ]
    },
    {
      "cell_type": "code",
      "metadata": {
        "id": "LPSlpRzQDNRi",
        "colab_type": "code",
        "colab": {}
      },
      "source": [
        "mkdir happy-sugar-life"
      ],
      "execution_count": null,
      "outputs": []
    },
    {
      "cell_type": "code",
      "metadata": {
        "id": "jOnn_EbK9rXr",
        "colab_type": "code",
        "colab": {
          "base_uri": "https://localhost:8080/",
          "height": 17
        },
        "outputId": "02ab0dcb-6e7c-45da-b591-57438a45eb53"
      },
      "source": [
        "path = untar_data(URLs.IMAGENETTE_160, dest= \"/content/happy-sugar-life\")"
      ],
      "execution_count": null,
      "outputs": [
        {
          "output_type": "display_data",
          "data": {
            "text/html": [
              ""
            ],
            "text/plain": [
              "<IPython.core.display.HTML object>"
            ]
          },
          "metadata": {
            "tags": []
          }
        }
      ]
    },
    {
      "cell_type": "code",
      "metadata": {
        "id": "Z_b9GDY-DUhz",
        "colab_type": "code",
        "colab": {
          "base_uri": "https://localhost:8080/",
          "height": 34
        },
        "outputId": "14f4f179-cb61-40f5-807c-ab6dec12bac0"
      },
      "source": [
        "path"
      ],
      "execution_count": null,
      "outputs": [
        {
          "output_type": "execute_result",
          "data": {
            "text/plain": [
              "Path('/content/happy-sugar-life/imagenette2-160')"
            ]
          },
          "metadata": {
            "tags": []
          },
          "execution_count": 5
        }
      ]
    },
    {
      "cell_type": "markdown",
      "metadata": {
        "id": "_ZzWezRf9rX8",
        "colab_type": "text"
      },
      "source": [
        "To access the image files, we can use `get_image_files`:"
      ]
    },
    {
      "cell_type": "code",
      "metadata": {
        "id": "nxtESaNH9rYA",
        "colab_type": "code",
        "colab": {
          "base_uri": "https://localhost:8080/",
          "height": 34
        },
        "outputId": "190d905c-6b9d-4761-a807-162ba3b43e8a"
      },
      "source": [
        "t = get_image_files(path)\n",
        "t[0]"
      ],
      "execution_count": null,
      "outputs": [
        {
          "output_type": "execute_result",
          "data": {
            "text/plain": [
              "Path('/content/happy-sugar-life/imagenette2-160/val/n03417042/n03417042_10442.JPEG')"
            ]
          },
          "metadata": {
            "tags": []
          },
          "execution_count": 6
        }
      ]
    },
    {
      "cell_type": "markdown",
      "metadata": {
        "id": "QpIETIF-9rYR",
        "colab_type": "text"
      },
      "source": [
        "Or we could do the same thing using just Python's standard library, with `glob`:"
      ]
    },
    {
      "cell_type": "code",
      "metadata": {
        "id": "DC4qjYi-9rYf",
        "colab_type": "code",
        "colab": {
          "base_uri": "https://localhost:8080/",
          "height": 34
        },
        "outputId": "64e2309a-de51-4c52-e5aa-65f559d65990"
      },
      "source": [
        "from glob import glob\n",
        "files = L(glob(f'{path}/**/*.JPEG', recursive=True)).map(Path)\n",
        "files[0]"
      ],
      "execution_count": null,
      "outputs": [
        {
          "output_type": "execute_result",
          "data": {
            "text/plain": [
              "Path('/content/happy-sugar-life/imagenette2-160/val/n03417042/n03417042_10442.JPEG')"
            ]
          },
          "metadata": {
            "tags": []
          },
          "execution_count": 7
        }
      ]
    },
    {
      "cell_type": "code",
      "metadata": {
        "id": "sm5owi1sDlSu",
        "colab_type": "code",
        "colab": {
          "base_uri": "https://localhost:8080/",
          "height": 34
        },
        "outputId": "2f72784e-21cd-4791-b91d-f4b807d12b51"
      },
      "source": [
        "len(files)"
      ],
      "execution_count": null,
      "outputs": [
        {
          "output_type": "execute_result",
          "data": {
            "text/plain": [
              "13394"
            ]
          },
          "metadata": {
            "tags": []
          },
          "execution_count": 8
        }
      ]
    },
    {
      "cell_type": "markdown",
      "metadata": {
        "id": "9ay-cFt29rYu",
        "colab_type": "text"
      },
      "source": [
        "If you look at the source for `get_image_files`, you'll see it uses Python's `os.walk`; this is a faster and more flexible function than `glob`, so be sure to try it out.\n",
        "\n",
        "We can open an image with the Python Imaging Library's `Image` class:"
      ]
    },
    {
      "cell_type": "code",
      "metadata": {
        "id": "NZXS1KtC9rYw",
        "colab_type": "code",
        "colab": {
          "base_uri": "https://localhost:8080/",
          "height": 177
        },
        "outputId": "4ea5f3e0-067f-4541-95f5-08eb708a56d4"
      },
      "source": [
        "im = Image.open(files[0])\n",
        "im"
      ],
      "execution_count": null,
      "outputs": [
        {
          "output_type": "execute_result",
          "data": {
            "image/png": "[encoded data removed]",
            "text/plain": [
              "<PIL.JpegImagePlugin.JpegImageFile image mode=RGB size=212x160 at 0x7FB738455BA8>"
            ]
          },
          "metadata": {
            "tags": []
          },
          "execution_count": 9
        }
      ]
    },
    {
      "cell_type": "code",
      "metadata": {
        "id": "-1xmJkQEF8Ag",
        "colab_type": "code",
        "colab": {
          "base_uri": "https://localhost:8080/",
          "height": 34
        },
        "outputId": "063802f5-193b-403e-9cad-0fbf01c7f3f8"
      },
      "source": [
        "type(im)"
      ],
      "execution_count": null,
      "outputs": [
        {
          "output_type": "execute_result",
          "data": {
            "text/plain": [
              "PIL.JpegImagePlugin.JpegImageFile"
            ]
          },
          "metadata": {
            "tags": []
          },
          "execution_count": 10
        }
      ]
    },
    {
      "cell_type": "code",
      "metadata": {
        "id": "hb_aIbMz9rZF",
        "colab_type": "code",
        "colab": {
          "base_uri": "https://localhost:8080/",
          "height": 34
        },
        "outputId": "efa45661-1462-4905-a039-4e8674ee0786"
      },
      "source": [
        "im_t = tensor(im)\n",
        "im_t.shape"
      ],
      "execution_count": null,
      "outputs": [
        {
          "output_type": "execute_result",
          "data": {
            "text/plain": [
              "torch.Size([160, 212, 3])"
            ]
          },
          "metadata": {
            "tags": []
          },
          "execution_count": 11
        }
      ]
    },
    {
      "cell_type": "markdown",
      "metadata": {
        "id": "F8kC031l9rZS",
        "colab_type": "text"
      },
      "source": [
        "That's going to be the basis of our independent variable. For our dependent variable, we can use `Path.parent` from `pathlib`. First we'll need our vocab:"
      ]
    },
    {
      "cell_type": "code",
      "metadata": {
        "id": "AzEvHww79rZY",
        "colab_type": "code",
        "colab": {
          "base_uri": "https://localhost:8080/",
          "height": 54
        },
        "outputId": "238ef9b9-1364-4991-a10b-81b42d6cbdee"
      },
      "source": [
        "lbls = files.map(Self.parent.name()).unique(); lbls"
      ],
      "execution_count": null,
      "outputs": [
        {
          "output_type": "execute_result",
          "data": {
            "text/plain": [
              "(#10) ['n03417042','n03394916','n03028079','n03425413','n03888257','n02979186','n03000684','n03445777','n01440764','n02102040']"
            ]
          },
          "metadata": {
            "tags": []
          },
          "execution_count": 12
        }
      ]
    },
    {
      "cell_type": "markdown",
      "metadata": {
        "id": "BUf4Me6e9rZk",
        "colab_type": "text"
      },
      "source": [
        "...and the reverse mapping, thanks to `L.val2idx`:"
      ]
    },
    {
      "cell_type": "code",
      "metadata": {
        "id": "CL9gPuzKOWqp",
        "colab_type": "code",
        "colab": {
          "base_uri": "https://localhost:8080/",
          "height": 34
        },
        "outputId": "f60ef9b4-8c2f-429c-ef20-41901d1e90f5"
      },
      "source": [
        "files[0]"
      ],
      "execution_count": null,
      "outputs": [
        {
          "output_type": "execute_result",
          "data": {
            "text/plain": [
              "Path('/content/happy-sugar-life/imagenette2-160/val/n03417042/n03417042_10442.JPEG')"
            ]
          },
          "metadata": {
            "tags": []
          },
          "execution_count": 13
        }
      ]
    },
    {
      "cell_type": "code",
      "metadata": {
        "id": "qehVgaS6OVq2",
        "colab_type": "code",
        "colab": {
          "base_uri": "https://localhost:8080/",
          "height": 229
        },
        "outputId": "b0d546b9-be5a-4136-cd8e-3570c261a801"
      },
      "source": [
        "Image.open(files[-4])"
      ],
      "execution_count": null,
      "outputs": [
        {
          "output_type": "execute_result",
          "data": {
            "image/png": "[encoded data removed]",
            "text/plain": [
              "<PIL.JpegImagePlugin.JpegImageFile image mode=RGB size=160x212 at 0x7FB736D534E0>"
            ]
          },
          "metadata": {
            "tags": []
          },
          "execution_count": 14
        }
      ]
    },
    {
      "cell_type": "code",
      "metadata": {
        "id": "SfP3ywPj9rZn",
        "colab_type": "code",
        "colab": {
          "base_uri": "https://localhost:8080/",
          "height": 185
        },
        "outputId": "4bd0c43e-2a15-496d-844a-ac33c554c265"
      },
      "source": [
        "v2i = lbls.val2idx(); v2i"
      ],
      "execution_count": null,
      "outputs": [
        {
          "output_type": "execute_result",
          "data": {
            "text/plain": [
              "{'n01440764': 8,\n",
              " 'n02102040': 9,\n",
              " 'n02979186': 5,\n",
              " 'n03000684': 6,\n",
              " 'n03028079': 2,\n",
              " 'n03394916': 1,\n",
              " 'n03417042': 0,\n",
              " 'n03425413': 3,\n",
              " 'n03445777': 7,\n",
              " 'n03888257': 4}"
            ]
          },
          "metadata": {
            "tags": []
          },
          "execution_count": 15
        }
      ]
    },
    {
      "cell_type": "markdown",
      "metadata": {
        "id": "MYgzRbSc9rZz",
        "colab_type": "text"
      },
      "source": [
        "That's all the pieces we need to put together our `Dataset`."
      ]
    },
    {
      "cell_type": "code",
      "metadata": {
        "id": "mRn13_g1G3NL",
        "colab_type": "code",
        "colab": {}
      },
      "source": [
        "sub_1 = get_image_files(\"/content/happy-sugar-life/imagenette2-160/train/n01440764\")"
      ],
      "execution_count": null,
      "outputs": []
    },
    {
      "cell_type": "code",
      "metadata": {
        "id": "3hBmB6PjG65S",
        "colab_type": "code",
        "colab": {
          "base_uri": "https://localhost:8080/",
          "height": 50
        },
        "outputId": "4f02a168-d7f6-4549-a91f-43468dc03553"
      },
      "source": [
        "len(sub_1), sub_1[1]"
      ],
      "execution_count": null,
      "outputs": [
        {
          "output_type": "execute_result",
          "data": {
            "text/plain": [
              "(963,\n",
              " Path('/content/happy-sugar-life/imagenette2-160/train/n01440764/n01440764_2098.JPEG'))"
            ]
          },
          "metadata": {
            "tags": []
          },
          "execution_count": 17
        }
      ]
    },
    {
      "cell_type": "markdown",
      "metadata": {
        "id": "eKZneyDH9rZ0",
        "colab_type": "text"
      },
      "source": [
        "### Dataset"
      ]
    },
    {
      "cell_type": "markdown",
      "metadata": {
        "id": "qE8-7JL79rZ6",
        "colab_type": "text"
      },
      "source": [
        "A `Dataset` in PyTorch can be anything that supports indexing (`__getitem__`) and `len`:"
      ]
    },
    {
      "cell_type": "code",
      "metadata": {
        "id": "NyDYhO4b9rZ8",
        "colab_type": "code",
        "colab": {}
      },
      "source": [
        "class Dataset:\n",
        "    def __init__(self, fns): self.fns=fns\n",
        "    def __len__(self): return len(self.fns)\n",
        "    def __getitem__(self, i):\n",
        "        im = Image.open(self.fns[i]).resize((64,64)).convert('RGB')\n",
        "        y = v2i[self.fns[i].parent.name]\n",
        "        return tensor(im).float()/255, tensor(y)"
      ],
      "execution_count": null,
      "outputs": []
    },
    {
      "cell_type": "markdown",
      "metadata": {
        "id": "n4m9hLAR9raG",
        "colab_type": "text"
      },
      "source": [
        "We need a list of training and validation filenames to pass to `Dataset.__init__`:"
      ]
    },
    {
      "cell_type": "code",
      "metadata": {
        "id": "ZNHjyW-CJHBr",
        "colab_type": "code",
        "colab": {
          "base_uri": "https://localhost:8080/",
          "height": 34
        },
        "outputId": "e9c2a872-de35-4dfc-b697-248506e09608"
      },
      "source": [
        "l1 = L(1,2,3,4); l1*2, l1[0]"
      ],
      "execution_count": null,
      "outputs": [
        {
          "output_type": "execute_result",
          "data": {
            "text/plain": [
              "((#8) [1,2,3,4,1,2,3,4], 1)"
            ]
          },
          "metadata": {
            "tags": []
          },
          "execution_count": 19
        }
      ]
    },
    {
      "cell_type": "code",
      "metadata": {
        "id": "hV4RkSJcJyk-",
        "colab_type": "code",
        "colab": {
          "base_uri": "https://localhost:8080/",
          "height": 35
        },
        "outputId": "ad52366f-7ff6-4688-e289-29fe5b0230eb"
      },
      "source": [
        "files[0].parent.name"
      ],
      "execution_count": null,
      "outputs": [
        {
          "output_type": "execute_result",
          "data": {
            "application/vnd.google.colaboratory.intrinsic+json": {
              "type": "string"
            },
            "text/plain": [
              "'n03417042'"
            ]
          },
          "metadata": {
            "tags": []
          },
          "execution_count": 20
        }
      ]
    },
    {
      "cell_type": "code",
      "metadata": {
        "id": "1jl6cV6OKNWv",
        "colab_type": "code",
        "colab": {
          "base_uri": "https://localhost:8080/",
          "height": 34
        },
        "outputId": "111cb51a-437d-4e4e-d95a-68c84f6f58b2"
      },
      "source": [
        "files[-1]"
      ],
      "execution_count": null,
      "outputs": [
        {
          "output_type": "execute_result",
          "data": {
            "text/plain": [
              "Path('/content/happy-sugar-life/imagenette2-160/train/n02102040/n02102040_745.JPEG')"
            ]
          },
          "metadata": {
            "tags": []
          },
          "execution_count": 21
        }
      ]
    },
    {
      "cell_type": "code",
      "metadata": {
        "id": "pZkABEl_KJS4",
        "colab_type": "code",
        "colab": {
          "base_uri": "https://localhost:8080/",
          "height": 162
        },
        "outputId": "578f1893-ec46-4b7f-9bda-64980bb619a0"
      },
      "source": [
        "# train_filt[-1]"
      ],
      "execution_count": null,
      "outputs": [
        {
          "output_type": "error",
          "ename": "NameError",
          "evalue": "ignored",
          "traceback": [
            "\u001b[0;31m---------------------------------------------------------------------------\u001b[0m",
            "\u001b[0;31mNameError\u001b[0m                                 Traceback (most recent call last)",
            "\u001b[0;32m<ipython-input-22-0569e77f9cd5>\u001b[0m in \u001b[0;36m<module>\u001b[0;34m()\u001b[0m\n\u001b[0;32m----> 1\u001b[0;31m \u001b[0mtrain_filt\u001b[0m\u001b[0;34m[\u001b[0m\u001b[0;34m-\u001b[0m\u001b[0;36m1\u001b[0m\u001b[0;34m]\u001b[0m\u001b[0;34m\u001b[0m\u001b[0;34m\u001b[0m\u001b[0m\n\u001b[0m",
            "\u001b[0;31mNameError\u001b[0m: name 'train_filt' is not defined"
          ]
        }
      ]
    },
    {
      "cell_type": "code",
      "metadata": {
        "id": "Ru822b8WKZxv",
        "colab_type": "code",
        "colab": {}
      },
      "source": [
        "# (~train_filt)[-1]"
      ],
      "execution_count": null,
      "outputs": []
    },
    {
      "cell_type": "code",
      "metadata": {
        "id": "6BdKJqZW9raJ",
        "colab_type": "code",
        "colab": {
          "base_uri": "https://localhost:8080/",
          "height": 34
        },
        "outputId": "6000f107-4a5b-4d4d-de7e-757961b2dc33"
      },
      "source": [
        "train_filt = L(o.parent.parent.name=='train' for o in files)\n",
        "train,valid = files[train_filt],files[~train_filt]\n",
        "len(train),len(valid)"
      ],
      "execution_count": null,
      "outputs": [
        {
          "output_type": "execute_result",
          "data": {
            "text/plain": [
              "(9469, 3925)"
            ]
          },
          "metadata": {
            "tags": []
          },
          "execution_count": 24
        }
      ]
    },
    {
      "cell_type": "code",
      "metadata": {
        "id": "y6jOyXaOMeMO",
        "colab_type": "code",
        "colab": {}
      },
      "source": [
        "type(files)"
      ],
      "execution_count": null,
      "outputs": []
    },
    {
      "cell_type": "code",
      "metadata": {
        "id": "fioe5RycNhkq",
        "colab_type": "code",
        "colab": {}
      },
      "source": [
        "# train_ds.fns[0].parent.name"
      ],
      "execution_count": null,
      "outputs": []
    },
    {
      "cell_type": "code",
      "metadata": {
        "id": "TCLD7GVVNsLa",
        "colab_type": "code",
        "colab": {}
      },
      "source": [
        "v2i"
      ],
      "execution_count": null,
      "outputs": []
    },
    {
      "cell_type": "markdown",
      "metadata": {
        "id": "JQ3oY-hY9raV",
        "colab_type": "text"
      },
      "source": [
        "Now we can try it out:"
      ]
    },
    {
      "cell_type": "code",
      "metadata": {
        "id": "ehJ0JV-j9raY",
        "colab_type": "code",
        "colab": {
          "base_uri": "https://localhost:8080/",
          "height": 34
        },
        "outputId": "6ec5c92a-eb54-47f0-f612-16e7ecbe112a"
      },
      "source": [
        "train_ds,valid_ds = Dataset(train),Dataset(valid)\n",
        "x,y = train_ds[4]\n",
        "x.shape,y"
      ],
      "execution_count": null,
      "outputs": [
        {
          "output_type": "execute_result",
          "data": {
            "text/plain": [
              "(torch.Size([64, 64, 3]), tensor(0))"
            ]
          },
          "metadata": {
            "tags": []
          },
          "execution_count": 25
        }
      ]
    },
    {
      "cell_type": "code",
      "metadata": {
        "id": "eOQM51z59rak",
        "colab_type": "code",
        "colab": {
          "base_uri": "https://localhost:8080/",
          "height": 156
        },
        "outputId": "0a8b2baf-2930-4262-b7d9-cb867a279008"
      },
      "source": [
        "show_image(x, title=lbls[y]);"
      ],
      "execution_count": null,
      "outputs": [
        {
          "output_type": "display_data",
          "data": {
            "image/png": "[encoded data removed]",
            "text/plain": [
              "<Figure size 144x144 with 1 Axes>"
            ]
          },
          "metadata": {
            "tags": [],
            "needs_background": "light"
          }
        }
      ]
    },
    {
      "cell_type": "markdown",
      "metadata": {
        "id": "y7zcCq2M9rav",
        "colab_type": "text"
      },
      "source": [
        "As you see, our dataset is returning the independent and dependent variables as a tuple, which is just what we need. We'll need to be able to collate these into a mini-batch. Generally this is done with `torch.stack`, which is what we'll use here:"
      ]
    },
    {
      "cell_type": "code",
      "metadata": {
        "id": "U2KpIqSR9rax",
        "colab_type": "code",
        "colab": {}
      },
      "source": [
        "def collate(idxs, ds): \n",
        "    xb,yb = zip(*[ds[i] for i in idxs])\n",
        "    return torch.stack(xb),torch.stack(yb)"
      ],
      "execution_count": null,
      "outputs": []
    },
    {
      "cell_type": "markdown",
      "metadata": {
        "id": "Gc_DkM9L9ra-",
        "colab_type": "text"
      },
      "source": [
        "Here's a mini-batch with two items, for testing our `collate`:"
      ]
    },
    {
      "cell_type": "code",
      "metadata": {
        "id": "2m4jVDU39rbC",
        "colab_type": "code",
        "colab": {
          "base_uri": "https://localhost:8080/",
          "height": 34
        },
        "outputId": "e33eb04f-a458-40cf-8be6-a8e22b423122"
      },
      "source": [
        "x,y = collate([1,2], train_ds)\n",
        "x.shape,y"
      ],
      "execution_count": null,
      "outputs": [
        {
          "output_type": "execute_result",
          "data": {
            "text/plain": [
              "(torch.Size([2, 64, 64, 3]), tensor([0, 0]))"
            ]
          },
          "metadata": {
            "tags": []
          },
          "execution_count": 28
        }
      ]
    },
    {
      "cell_type": "markdown",
      "metadata": {
        "id": "X3SnNuAx9rbS",
        "colab_type": "text"
      },
      "source": [
        "Now that we have a dataset and a collation function, we're ready to create `DataLoader`. We'll add two more things here: an optional `shuffle` for the training set, and a `ProcessPoolExecutor` to do our preprocessing in parallel. A parallel data loader is very important, because opening and decoding a JPEG image is a slow process. One CPU core is not enough to decode images fast enough to keep a modern GPU busy. Here's our `DataLoader` class:"
      ]
    },
    {
      "cell_type": "code",
      "metadata": {
        "id": "EU8rmZsN9rbV",
        "colab_type": "code",
        "colab": {}
      },
      "source": [
        "class DataLoader:\n",
        "    def __init__(self, ds, bs=128, shuffle=False, n_workers=1):\n",
        "        self.ds,self.bs,self.shuffle,self.n_workers = ds,bs,shuffle,n_workers\n",
        "\n",
        "    def __len__(self): return (len(self.ds)-1)//self.bs+1\n",
        "\n",
        "    def __iter__(self):\n",
        "        idxs = L.range(self.ds)\n",
        "        if self.shuffle: idxs = idxs.shuffle()\n",
        "        chunks = [idxs[n:n+self.bs] for n in range(0, len(self.ds), self.bs)]\n",
        "        with ProcessPoolExecutor(self.n_workers) as ex:\n",
        "            yield from ex.map(collate, chunks, ds=self.ds)"
      ],
      "execution_count": null,
      "outputs": []
    },
    {
      "cell_type": "markdown",
      "metadata": {
        "id": "smlY1mPg9rbf",
        "colab_type": "text"
      },
      "source": [
        "Let's try it out with our training and validation datasets:"
      ]
    },
    {
      "cell_type": "code",
      "metadata": {
        "id": "02kzCuBEVOBW",
        "colab_type": "code",
        "colab": {
          "base_uri": "https://localhost:8080/",
          "height": 34
        },
        "outputId": "53515d6f-d422-4c7e-e39e-85d669818151"
      },
      "source": [
        "defaults.cpus"
      ],
      "execution_count": null,
      "outputs": [
        {
          "output_type": "execute_result",
          "data": {
            "text/plain": [
              "2"
            ]
          },
          "metadata": {
            "tags": []
          },
          "execution_count": 30
        }
      ]
    },
    {
      "cell_type": "code",
      "metadata": {
        "id": "Q3AT1Q_JVoRF",
        "colab_type": "code",
        "colab": {
          "base_uri": "https://localhost:8080/",
          "height": 34
        },
        "outputId": "10779e95-1cdf-4cd0-935a-890b42601c20"
      },
      "source": [
        "(9469-1)//128+1         # len(train_ds) = 9469"
      ],
      "execution_count": null,
      "outputs": [
        {
          "output_type": "execute_result",
          "data": {
            "text/plain": [
              "74"
            ]
          },
          "metadata": {
            "tags": []
          },
          "execution_count": 32
        }
      ]
    },
    {
      "cell_type": "code",
      "metadata": {
        "id": "4gL6degp9rbh",
        "colab_type": "code",
        "colab": {
          "base_uri": "https://localhost:8080/",
          "height": 34
        },
        "outputId": "b2dd796e-8c00-41f7-d03d-1f35ec0d2d5f"
      },
      "source": [
        "n_workers = min(16, defaults.cpus)\n",
        "train_dl = DataLoader(train_ds, bs=128, shuffle=True, n_workers=n_workers)\n",
        "valid_dl = DataLoader(valid_ds, bs=256, shuffle=False, n_workers=n_workers)\n",
        "xb,yb = first(train_dl)\n",
        "xb.shape,yb.shape,len(train_dl)"
      ],
      "execution_count": null,
      "outputs": [
        {
          "output_type": "execute_result",
          "data": {
            "text/plain": [
              "(torch.Size([128, 64, 64, 3]), torch.Size([128]), 74)"
            ]
          },
          "metadata": {
            "tags": []
          },
          "execution_count": 31
        }
      ]
    },
    {
      "cell_type": "markdown",
      "metadata": {
        "id": "ZhJOP6E79rbt",
        "colab_type": "text"
      },
      "source": [
        "This data loader is not much slower than PyTorch's, but it's far simpler. So if you're debugging a complex data loading process, don't be afraid to try doing things manually to help you see exactly what's going on.\n",
        "\n",
        "For normalization, we'll need image statistics. Generally it's fine to calculate these on a single training mini-batch, since precision isn't needed here:"
      ]
    },
    {
      "cell_type": "code",
      "metadata": {
        "id": "saT4yuLDYeSQ",
        "colab_type": "code",
        "colab": {}
      },
      "source": [
        "# xb.mean((0,1)).shape        #torch.Size([64, 3])"
      ],
      "execution_count": null,
      "outputs": []
    },
    {
      "cell_type": "code",
      "metadata": {
        "id": "jpzO9XaO9rbv",
        "colab_type": "code",
        "colab": {
          "base_uri": "https://localhost:8080/",
          "height": 34
        },
        "outputId": "07a9cbea-138c-4358-d24f-f62e730bd754"
      },
      "source": [
        "stats = [xb.mean((0,1,2)),xb.std((0,1,2))]\n",
        "stats"
      ],
      "execution_count": null,
      "outputs": [
        {
          "output_type": "execute_result",
          "data": {
            "text/plain": [
              "[tensor([0.4677, 0.4687, 0.4464]), tensor([0.2696, 0.2641, 0.2918])]"
            ]
          },
          "metadata": {
            "tags": []
          },
          "execution_count": 33
        }
      ]
    },
    {
      "cell_type": "markdown",
      "metadata": {
        "id": "0xZF99H19rb5",
        "colab_type": "text"
      },
      "source": [
        "Our `Normalize` class just needs to store these stats and apply them (to see why the `to_device` is needed, try commenting it out, and see what happens later in this notebook):"
      ]
    },
    {
      "cell_type": "code",
      "metadata": {
        "id": "1zp867WA9rb7",
        "colab_type": "code",
        "colab": {}
      },
      "source": [
        "class Normalize:\n",
        "    def __init__(self, stats): self.stats=stats\n",
        "    def __call__(self, x):\n",
        "        if x.device != self.stats[0].device:\n",
        "            self.stats = to_device(self.stats, x.device)\n",
        "        return (x-self.stats[0])/self.stats[1]"
      ],
      "execution_count": null,
      "outputs": []
    },
    {
      "cell_type": "markdown",
      "metadata": {
        "id": "o3bygbgM9rcG",
        "colab_type": "text"
      },
      "source": [
        "We always like to test everything we build in a notebook, as soon as we build it:"
      ]
    },
    {
      "cell_type": "code",
      "metadata": {
        "id": "V2bsse3bZxP3",
        "colab_type": "code",
        "colab": {}
      },
      "source": [
        "x.shape"
      ],
      "execution_count": null,
      "outputs": []
    },
    {
      "cell_type": "code",
      "metadata": {
        "id": "jBaA6P3kZ8rW",
        "colab_type": "code",
        "colab": {}
      },
      "source": [
        "stats"
      ],
      "execution_count": null,
      "outputs": []
    },
    {
      "cell_type": "code",
      "metadata": {
        "id": "kDupI4ID9rcI",
        "colab_type": "code",
        "colab": {}
      },
      "source": [
        "norm = Normalize(stats)\n",
        "def tfm_x(x): return norm(x).permute((0,3,1,2))"
      ],
      "execution_count": null,
      "outputs": []
    },
    {
      "cell_type": "code",
      "metadata": {
        "id": "gvWd4NEu9rcS",
        "colab_type": "code",
        "colab": {
          "base_uri": "https://localhost:8080/",
          "height": 34
        },
        "outputId": "2ff892ba-368e-4764-9dae-cf53769b61f9"
      },
      "source": [
        "t = tfm_x(x)\n",
        "t.mean((0,2,3)),t.std((0,2,3))"
      ],
      "execution_count": null,
      "outputs": [
        {
          "output_type": "execute_result",
          "data": {
            "text/plain": [
              "(tensor([0.1807, 0.2033, 0.1875]), tensor([0.9670, 0.9843, 0.9477]))"
            ]
          },
          "metadata": {
            "tags": []
          },
          "execution_count": 36
        }
      ]
    },
    {
      "cell_type": "markdown",
      "metadata": {
        "id": "2n7RmiFo9rcc",
        "colab_type": "text"
      },
      "source": [
        "Here `tfm_x` isn't just applying `Normalize`, but is also permuting the axis order from `NHWC` to `NCHW` (see <<chapter_convolutions>> if you need a reminder of what these acronyms refer to). PIL uses `HWC` axis order, which we can't use with PyTorch, hence the need for this `permute`."
      ]
    },
    {
      "cell_type": "markdown",
      "metadata": {
        "id": "RxWw2nyY9rcf",
        "colab_type": "text"
      },
      "source": [
        "That's all we need for the data for our model. So now we need the model itself!"
      ]
    },
    {
      "cell_type": "markdown",
      "metadata": {
        "id": "gHuBfml79rci",
        "colab_type": "text"
      },
      "source": [
        "## Module and Parameter"
      ]
    },
    {
      "cell_type": "markdown",
      "metadata": {
        "id": "vl68Talz9rck",
        "colab_type": "text"
      },
      "source": [
        "To create a model, we'll need `Module`. To create `Module`, we'll need `Parameter`, so let's start there. Recall that in <<chapter_collab>> we said that the `Parameter` class \"doesn't actually add any functionality (other than automatically calling `requires_grad_` for us). It's only used as a \"marker\" to show what to include in `parameters`.\" Here's a definition which does exactly that:"
      ]
    },
    {
      "cell_type": "code",
      "metadata": {
        "id": "xajN1glc9rcm",
        "colab_type": "code",
        "colab": {}
      },
      "source": [
        "class Parameter(Tensor):\n",
        "    def __new__(self, x): return Tensor._make_subclass(Parameter, x, True)\n",
        "    def __init__(self, *args, **kwargs): self.requires_grad_()"
      ],
      "execution_count": null,
      "outputs": []
    },
    {
      "cell_type": "markdown",
      "metadata": {
        "id": "0UeyEdgl9rcw",
        "colab_type": "text"
      },
      "source": [
        "The implementation here is a bit awkward: we have to define the special `__new__` Python method and use the internal PyTorch method `_make_subclass` because, as at the time of writing, PyTorch doesn't otherwise work correctly with this kind of subclassing or provide an officially supported API to do this. This may have been fixed by the time you read this, so look on the book's website to see if there are updated details.\n",
        "\n",
        "Our `Parameter` now behaves just like a tensor, as we wanted:"
      ]
    },
    {
      "cell_type": "code",
      "metadata": {
        "id": "hKu53oD99rcy",
        "colab_type": "code",
        "colab": {
          "base_uri": "https://localhost:8080/",
          "height": 34
        },
        "outputId": "905319c3-94ff-4aa5-eee9-c2d73dbbfe09"
      },
      "source": [
        "Parameter(tensor(3.))"
      ],
      "execution_count": null,
      "outputs": [
        {
          "output_type": "execute_result",
          "data": {
            "text/plain": [
              "tensor(3., requires_grad=True)"
            ]
          },
          "metadata": {
            "tags": []
          },
          "execution_count": 38
        }
      ]
    },
    {
      "cell_type": "markdown",
      "metadata": {
        "id": "odA3IWDD9rc-",
        "colab_type": "text"
      },
      "source": [
        "Now that we have this, we can define `Module`:"
      ]
    },
    {
      "cell_type": "code",
      "metadata": {
        "id": "UZIwg0Ac9rc-",
        "colab_type": "code",
        "colab": {}
      },
      "source": [
        "class Module:\n",
        "    def __init__(self):\n",
        "        self.hook,self.params,self.children,self._training = None,[],[],False\n",
        "        \n",
        "    def register_parameters(self, *ps): self.params += ps\n",
        "    def register_modules   (self, *ms): self.children += ms\n",
        "        \n",
        "    @property\n",
        "    def training(self): return self._training\n",
        "    @training.setter\n",
        "    def training(self,v):\n",
        "        self._training = v\n",
        "        for m in self.children: m.training=v\n",
        "            \n",
        "    def parameters(self):\n",
        "        return self.params + sum([m.parameters() for m in self.children], [])\n",
        "\n",
        "    def __setattr__(self,k,v):\n",
        "        super().__setattr__(k,v)\n",
        "        if isinstance(v,Parameter): self.register_parameters(v)\n",
        "        if isinstance(v,Module):    self.register_modules(v)\n",
        "        \n",
        "    def __call__(self, *args, **kwargs):\n",
        "        res = self.forward(*args, **kwargs)\n",
        "        if self.hook is not None: self.hook(res, args)\n",
        "        return res\n",
        "    \n",
        "    def cuda(self):\n",
        "        for p in self.parameters(): p.data = p.data.cuda()"
      ],
      "execution_count": null,
      "outputs": []
    },
    {
      "cell_type": "markdown",
      "metadata": {
        "id": "Y2PcWMS79rdE",
        "colab_type": "text"
      },
      "source": [
        "The key functionality is in the definition of `parameters`:\n",
        "\n",
        "```python\n",
        "self.params + sum([m.parameters() for m in self.children], [])\n",
        "```\n",
        "\n",
        "This means that we can ask any `Module` for its parameters, and it will return them, including for all its child modules (recursively). But how does it know what its parameters are? It's thanks to implementing Python's special `__setattr__` method, which is called for us any time Python sets an attribute on a class. Our implementation includes this line:\n",
        "\n",
        "```python\n",
        "if isinstance(v,Parameter): self.register_parameters(v)\n",
        "```\n",
        "\n",
        "As you see, this is where we use our new `Parameter` class as a \"marker\"—anything of this class is added to our `params`.\n",
        "\n",
        "Python's `__call__` allows us to define what happens when our object is treated as a function; we just call `forward` (which doesn't exist here, so it'll need to be added by subclasses). Before we do, we'll call a hook, if it's defined. Now you can see that PyTorch hooks aren't doing anything fancy at all—they're just calling any hooks have been registered.\n",
        "\n",
        "Other than these pieces of functionality, our `Module` also provides `cuda` and `training` attributes, which we'll use shortly.\n",
        "\n",
        "Now we can create our first `Module`, which is `ConvLayer`:"
      ]
    },
    {
      "cell_type": "code",
      "metadata": {
        "id": "_MM7PAeH9rdE",
        "colab_type": "code",
        "colab": {}
      },
      "source": [
        "class ConvLayer(Module):\n",
        "    def __init__(self, ni, nf, stride=1, bias=True, act=True):\n",
        "        super().__init__()\n",
        "        self.w = Parameter(torch.zeros(nf,ni,3,3))\n",
        "        self.b = Parameter(torch.zeros(nf)) if bias else None\n",
        "        self.act,self.stride = act,stride\n",
        "        init = nn.init.kaiming_normal_ if act else nn.init.xavier_normal_\n",
        "        init(self.w)\n",
        "    \n",
        "    def forward(self, x):\n",
        "        x = F.conv2d(x, self.w, self.b, stride=self.stride, padding=1)\n",
        "        if self.act: x = F.relu(x)\n",
        "        return x"
      ],
      "execution_count": null,
      "outputs": []
    },
    {
      "cell_type": "markdown",
      "metadata": {
        "id": "mt26ynKh9rdS",
        "colab_type": "text"
      },
      "source": [
        "We're not implementing `F.conv2d` from scratch, since you should have already done that (using `unfold`) in the questionnaire in <<chapter_foundations>>. Instead, we're just creating a small class that wraps it up along with bias and weight initialization. Let's check that it works correctly with `Module.parameters`:"
      ]
    },
    {
      "cell_type": "code",
      "metadata": {
        "id": "LH-Oqyko9rdT",
        "colab_type": "code",
        "colab": {
          "base_uri": "https://localhost:8080/",
          "height": 34
        },
        "outputId": "2dd5cfc1-37c9-48f2-fe7e-e1f0f1c6868b"
      },
      "source": [
        "l = ConvLayer(3, 4)\n",
        "len(l.parameters())"
      ],
      "execution_count": null,
      "outputs": [
        {
          "output_type": "execute_result",
          "data": {
            "text/plain": [
              "2"
            ]
          },
          "metadata": {
            "tags": []
          },
          "execution_count": 41
        }
      ]
    },
    {
      "cell_type": "markdown",
      "metadata": {
        "id": "y_xeVL-J9rdc",
        "colab_type": "text"
      },
      "source": [
        "And that we can call it (which will result in `forward` being called):"
      ]
    },
    {
      "cell_type": "code",
      "metadata": {
        "id": "vmdMMJ-zpQ9k",
        "colab_type": "code",
        "colab": {
          "base_uri": "https://localhost:8080/",
          "height": 34
        },
        "outputId": "f42a3514-4c07-4649-e847-537261af2e8d"
      },
      "source": [
        "xb.shape"
      ],
      "execution_count": null,
      "outputs": [
        {
          "output_type": "execute_result",
          "data": {
            "text/plain": [
              "torch.Size([128, 64, 64, 3])"
            ]
          },
          "metadata": {
            "tags": []
          },
          "execution_count": 42
        }
      ]
    },
    {
      "cell_type": "code",
      "metadata": {
        "id": "JlaK4V4Z9rdh",
        "colab_type": "code",
        "colab": {
          "base_uri": "https://localhost:8080/",
          "height": 34
        },
        "outputId": "e3267811-8323-40e5-b8b2-d0dbb67239c8"
      },
      "source": [
        "xbt = tfm_x(xb)\n",
        "r = l(xbt)\n",
        "r.shape"
      ],
      "execution_count": null,
      "outputs": [
        {
          "output_type": "execute_result",
          "data": {
            "text/plain": [
              "torch.Size([128, 4, 64, 64])"
            ]
          },
          "metadata": {
            "tags": []
          },
          "execution_count": 43
        }
      ]
    },
    {
      "cell_type": "code",
      "metadata": {
        "id": "n8sDzafYpUqP",
        "colab_type": "code",
        "colab": {
          "base_uri": "https://localhost:8080/",
          "height": 34
        },
        "outputId": "2aaa876d-d100-47f7-8cbf-0dcbfd6a73d1"
      },
      "source": [
        "xbt.shape"
      ],
      "execution_count": null,
      "outputs": [
        {
          "output_type": "execute_result",
          "data": {
            "text/plain": [
              "torch.Size([128, 3, 64, 64])"
            ]
          },
          "metadata": {
            "tags": []
          },
          "execution_count": 44
        }
      ]
    },
    {
      "cell_type": "markdown",
      "metadata": {
        "id": "JgLCQpTn9rdn",
        "colab_type": "text"
      },
      "source": [
        "In the same way, we can implement `Linear`:"
      ]
    },
    {
      "cell_type": "code",
      "metadata": {
        "id": "9ltLkw1Q9rdo",
        "colab_type": "code",
        "colab": {}
      },
      "source": [
        "class Linear(Module):\n",
        "    def __init__(self, ni, nf):\n",
        "        super().__init__()\n",
        "        self.w = Parameter(torch.zeros(nf,ni))\n",
        "        self.b = Parameter(torch.zeros(nf))\n",
        "        nn.init.xavier_normal_(self.w)\n",
        "    \n",
        "    def forward(self, x): return x@self.w.t() + self.b"
      ],
      "execution_count": null,
      "outputs": []
    },
    {
      "cell_type": "markdown",
      "metadata": {
        "id": "KhqD4sUn9rdt",
        "colab_type": "text"
      },
      "source": [
        "and test if it works:"
      ]
    },
    {
      "cell_type": "code",
      "metadata": {
        "id": "ZqZKNwEWqesS",
        "colab_type": "code",
        "colab": {
          "base_uri": "https://localhost:8080/",
          "height": 34
        },
        "outputId": "bbfafbf2-8904-4940-981f-5335a7bfc685"
      },
      "source": [
        "torch.zeros(2)"
      ],
      "execution_count": null,
      "outputs": [
        {
          "output_type": "execute_result",
          "data": {
            "text/plain": [
              "tensor([0., 0.])"
            ]
          },
          "metadata": {
            "tags": []
          },
          "execution_count": 46
        }
      ]
    },
    {
      "cell_type": "code",
      "metadata": {
        "id": "T1QgYzxs9rdv",
        "colab_type": "code",
        "colab": {
          "base_uri": "https://localhost:8080/",
          "height": 34
        },
        "outputId": "c5879d6b-35d2-40cc-e630-e02d1c5956c3"
      },
      "source": [
        "l = Linear(4,2)\n",
        "r = l(torch.ones(3,4))\n",
        "r.shape"
      ],
      "execution_count": null,
      "outputs": [
        {
          "output_type": "execute_result",
          "data": {
            "text/plain": [
              "torch.Size([3, 2])"
            ]
          },
          "metadata": {
            "tags": []
          },
          "execution_count": 47
        }
      ]
    },
    {
      "cell_type": "markdown",
      "metadata": {
        "id": "Vmgo2S0o9rd4",
        "colab_type": "text"
      },
      "source": [
        "Let's also create a testing module to check that if we include multiple parameters as attributes, they are all correctly registered:"
      ]
    },
    {
      "cell_type": "code",
      "metadata": {
        "id": "rAWE3i1a9rd6",
        "colab_type": "code",
        "colab": {}
      },
      "source": [
        "class T(Module):\n",
        "    def __init__(self):\n",
        "        super().__init__()\n",
        "        self.c,self.l = ConvLayer(3,4),Linear(4,2)"
      ],
      "execution_count": null,
      "outputs": []
    },
    {
      "cell_type": "markdown",
      "metadata": {
        "id": "VpIwwjc89reJ",
        "colab_type": "text"
      },
      "source": [
        "Since we have a conv layer and a linear layer, each of which has weights and biases, we'd expect four parameters in total:"
      ]
    },
    {
      "cell_type": "code",
      "metadata": {
        "id": "MycgNqak9reL",
        "colab_type": "code",
        "colab": {
          "base_uri": "https://localhost:8080/",
          "height": 34
        },
        "outputId": "eef0d71e-5f40-4e11-fd75-6e8f96b8c8f9"
      },
      "source": [
        "t = T()\n",
        "len(t.parameters())"
      ],
      "execution_count": null,
      "outputs": [
        {
          "output_type": "execute_result",
          "data": {
            "text/plain": [
              "4"
            ]
          },
          "metadata": {
            "tags": []
          },
          "execution_count": 49
        }
      ]
    },
    {
      "cell_type": "markdown",
      "metadata": {
        "id": "7E-3uU_Y9reR",
        "colab_type": "text"
      },
      "source": [
        "We should also find that calling `cuda` on this class puts all these parameters on the GPU:"
      ]
    },
    {
      "cell_type": "code",
      "metadata": {
        "id": "1K7ZPYMr9reT",
        "colab_type": "code",
        "colab": {
          "base_uri": "https://localhost:8080/",
          "height": 34
        },
        "outputId": "3d9c16e3-2cec-4221-eb6d-15b70c0dcc52"
      },
      "source": [
        "t.cuda()\n",
        "t.l.w.device"
      ],
      "execution_count": null,
      "outputs": [
        {
          "output_type": "execute_result",
          "data": {
            "text/plain": [
              "device(type='cuda', index=0)"
            ]
          },
          "metadata": {
            "tags": []
          },
          "execution_count": 50
        }
      ]
    },
    {
      "cell_type": "code",
      "metadata": {
        "id": "k6Y2mPW0sGoQ",
        "colab_type": "code",
        "colab": {
          "base_uri": "https://localhost:8080/",
          "height": 34
        },
        "outputId": "a9a274ce-ac09-4aff-fe13-d95df88cce8a"
      },
      "source": [
        "t.c.w.device"
      ],
      "execution_count": null,
      "outputs": [
        {
          "output_type": "execute_result",
          "data": {
            "text/plain": [
              "device(type='cuda', index=0)"
            ]
          },
          "metadata": {
            "tags": []
          },
          "execution_count": 51
        }
      ]
    },
    {
      "cell_type": "markdown",
      "metadata": {
        "id": "eMriXv2l9reY",
        "colab_type": "text"
      },
      "source": [
        "We can now use those pieces to create a CNN."
      ]
    },
    {
      "cell_type": "markdown",
      "metadata": {
        "id": "kv0SGeZ79reZ",
        "colab_type": "text"
      },
      "source": [
        "### Simple CNN"
      ]
    },
    {
      "cell_type": "markdown",
      "metadata": {
        "id": "t6cESy3z9reb",
        "colab_type": "text"
      },
      "source": [
        "As we've seen, a `Sequential` class makes many architectures easier to implement, so let's make one:"
      ]
    },
    {
      "cell_type": "code",
      "metadata": {
        "id": "uqNzWL9y9rec",
        "colab_type": "code",
        "colab": {}
      },
      "source": [
        "class Sequential(Module):\n",
        "    def __init__(self, *layers):\n",
        "        super().__init__()\n",
        "        self.layers = layers\n",
        "        self.register_modules(*layers)\n",
        "\n",
        "    def forward(self, x):\n",
        "        for l in self.layers: x = l(x)\n",
        "        return x"
      ],
      "execution_count": null,
      "outputs": []
    },
    {
      "cell_type": "markdown",
      "metadata": {
        "id": "wBbWwxCM9ren",
        "colab_type": "text"
      },
      "source": [
        "The `forward` method here just calls each layer in turn. Note that we have to use the `register_modules` method we defined in `Module`, since otherwise the contents of `layers` won't appear in `parameters`."
      ]
    },
    {
      "cell_type": "markdown",
      "metadata": {
        "id": "FiHQ0h3V9reo",
        "colab_type": "text"
      },
      "source": [
        "> important: All The Code is Here: Remember that we're not using any PyTorch functionality for modules here; we're defining everything ourselves. So if you're not sure what `register_modules` does, or why it's needed, have another look at our code for `Module` to see what we wrote!"
      ]
    },
    {
      "cell_type": "markdown",
      "metadata": {
        "id": "p_d7GvFK9rep",
        "colab_type": "text"
      },
      "source": [
        "We can create a simplified `AdaptivePool` that only handles pooling to a 1×1 output, and flattens it as well, by just using `mean`:"
      ]
    },
    {
      "cell_type": "code",
      "metadata": {
        "id": "11D_7Oyp9rer",
        "colab_type": "code",
        "colab": {}
      },
      "source": [
        "class AdaptivePool(Module):\n",
        "    def forward(self, x): return x.mean((2,3))"
      ],
      "execution_count": null,
      "outputs": []
    },
    {
      "cell_type": "markdown",
      "metadata": {
        "id": "qhVKP5l29re2",
        "colab_type": "text"
      },
      "source": [
        "That's enough for us to create a CNN!"
      ]
    },
    {
      "cell_type": "code",
      "metadata": {
        "id": "rGS-cG6b9re3",
        "colab_type": "code",
        "colab": {}
      },
      "source": [
        "def simple_cnn():\n",
        "    return Sequential(\n",
        "        ConvLayer(3 ,16 ,stride=2), #32\n",
        "        ConvLayer(16,32 ,stride=2), #16\n",
        "        ConvLayer(32,64 ,stride=2), # 8\n",
        "        ConvLayer(64,128,stride=2), # 4\n",
        "        AdaptivePool(),\n",
        "        Linear(128, 10)\n",
        "    )"
      ],
      "execution_count": null,
      "outputs": []
    },
    {
      "cell_type": "markdown",
      "metadata": {
        "id": "m2OnetHu9rfC",
        "colab_type": "text"
      },
      "source": [
        "Let's see if our parameters are all being registered correctly:"
      ]
    },
    {
      "cell_type": "code",
      "metadata": {
        "id": "NJYekeXF9rfG",
        "colab_type": "code",
        "colab": {
          "base_uri": "https://localhost:8080/",
          "height": 34
        },
        "outputId": "822d89b3-6788-4633-d9aa-f9a2a56bd2ef"
      },
      "source": [
        "m = simple_cnn()\n",
        "len(m.parameters())"
      ],
      "execution_count": null,
      "outputs": [
        {
          "output_type": "execute_result",
          "data": {
            "text/plain": [
              "10"
            ]
          },
          "metadata": {
            "tags": []
          },
          "execution_count": 55
        }
      ]
    },
    {
      "cell_type": "markdown",
      "metadata": {
        "id": "lYkqEBiV9rfQ",
        "colab_type": "text"
      },
      "source": [
        "Now we can try adding a hook. Note that we've only left room for one hook in `Module`; you could make it a list, or use something like `Pipeline` to run a few as a single function:"
      ]
    },
    {
      "cell_type": "code",
      "metadata": {
        "id": "De8ppFco9rfR",
        "colab_type": "code",
        "colab": {
          "base_uri": "https://localhost:8080/",
          "height": 101
        },
        "outputId": "a72f1c27-b2f8-41a6-a68a-3a175cc2f59f"
      },
      "source": [
        "def print_stats(outp, inp): print (outp.mean().item(),outp.std().item())\n",
        "for i in range(4): m.layers[i].hook = print_stats\n",
        "\n",
        "r = m(xbt)\n",
        "r.shape"
      ],
      "execution_count": null,
      "outputs": [
        {
          "output_type": "stream",
          "text": [
            "0.5300405621528625 0.8701061606407166\n",
            "0.4363998770713806 0.8302431106567383\n",
            "0.43451711535453796 0.7562440037727356\n",
            "0.4629433751106262 0.7397884726524353\n"
          ],
          "name": "stdout"
        },
        {
          "output_type": "execute_result",
          "data": {
            "text/plain": [
              "torch.Size([128, 10])"
            ]
          },
          "metadata": {
            "tags": []
          },
          "execution_count": 56
        }
      ]
    },
    {
      "cell_type": "markdown",
      "metadata": {
        "id": "dyhxG5BC9rfa",
        "colab_type": "text"
      },
      "source": [
        "We have data and model. Now we need a loss function."
      ]
    },
    {
      "cell_type": "code",
      "metadata": {
        "id": "FaDNdCTuu30b",
        "colab_type": "code",
        "colab": {
          "base_uri": "https://localhost:8080/",
          "height": 54
        },
        "outputId": "5ea327f3-72b1-45fa-bc16-051b258cd599"
      },
      "source": [
        "r[0]"
      ],
      "execution_count": null,
      "outputs": [
        {
          "output_type": "execute_result",
          "data": {
            "text/plain": [
              "tensor([ 1.4062,  0.5202, -0.7456, -0.2355,  0.5487, -1.4882,  1.2321,  1.4961,  0.8315,  0.4303], grad_fn=<SelectBackward>)"
            ]
          },
          "metadata": {
            "tags": []
          },
          "execution_count": 57
        }
      ]
    },
    {
      "cell_type": "markdown",
      "metadata": {
        "id": "Xnt_7z8j9rfb",
        "colab_type": "text"
      },
      "source": [
        "## Loss"
      ]
    },
    {
      "cell_type": "markdown",
      "metadata": {
        "id": "slQTselY9rfd",
        "colab_type": "text"
      },
      "source": [
        "We've already seen how to define \"negative log likelihood\":"
      ]
    },
    {
      "cell_type": "code",
      "metadata": {
        "id": "PRdcYxdv9rfe",
        "colab_type": "code",
        "colab": {}
      },
      "source": [
        "def nll(input, target): return -input[range(target.shape[0]), target].mean()"
      ],
      "execution_count": null,
      "outputs": []
    },
    {
      "cell_type": "markdown",
      "metadata": {
        "id": "T0FeHvyi9rfo",
        "colab_type": "text"
      },
      "source": [
        "Well actually, there's no log here, since we're using the same definition as PyTorch. That means we need to put the log together with softmax:"
      ]
    },
    {
      "cell_type": "code",
      "metadata": {
        "id": "BBZRJAQo9rfq",
        "colab_type": "code",
        "colab": {
          "base_uri": "https://localhost:8080/",
          "height": 34
        },
        "outputId": "452ed7e9-7a4b-482b-af07-dd4f2f51f43b"
      },
      "source": [
        "def log_softmax(x): return (x.exp()/(x.exp().sum(-1,keepdim=True))).log()\n",
        "\n",
        "sm = log_softmax(r); sm[0][0]"
      ],
      "execution_count": null,
      "outputs": [
        {
          "output_type": "execute_result",
          "data": {
            "text/plain": [
              "tensor(-1.6245, grad_fn=<SelectBackward>)"
            ]
          },
          "metadata": {
            "tags": []
          },
          "execution_count": 59
        }
      ]
    },
    {
      "cell_type": "markdown",
      "metadata": {
        "id": "D4e3Kzzh9rfw",
        "colab_type": "text"
      },
      "source": [
        "Combining these gives us our cross-entropy loss:"
      ]
    },
    {
      "cell_type": "code",
      "metadata": {
        "id": "2Tw9o0nG9rfz",
        "colab_type": "code",
        "colab": {
          "base_uri": "https://localhost:8080/",
          "height": 34
        },
        "outputId": "449d9b96-ea6d-4cb1-9117-7f8224257a57"
      },
      "source": [
        "loss = nll(sm, yb)\n",
        "loss"
      ],
      "execution_count": null,
      "outputs": [
        {
          "output_type": "execute_result",
          "data": {
            "text/plain": [
              "tensor(2.6655, grad_fn=<NegBackward>)"
            ]
          },
          "metadata": {
            "tags": []
          },
          "execution_count": 61
        }
      ]
    },
    {
      "cell_type": "markdown",
      "metadata": {
        "id": "T0SohO889rgA",
        "colab_type": "text"
      },
      "source": [
        "Note that the formula:\n",
        "\n",
        "$$\\log \\left ( \\frac{a}{b} \\right ) = \\log(a) - \\log(b)$$ \n",
        "\n",
        "gives a simplification when we compute the log softmax, which was previously defined as `(x.exp()/(x.exp().sum(-1))).log()`:"
      ]
    },
    {
      "cell_type": "code",
      "metadata": {
        "id": "rlm1QS329rgC",
        "colab_type": "code",
        "colab": {
          "base_uri": "https://localhost:8080/",
          "height": 34
        },
        "outputId": "088dfdeb-83ab-4ee8-b16a-5adcd2eb59a4"
      },
      "source": [
        "def log_softmax(x): return x - x.exp().sum(-1,keepdim=True).log()\n",
        "sm = log_softmax(r); sm[0][0]"
      ],
      "execution_count": null,
      "outputs": [
        {
          "output_type": "execute_result",
          "data": {
            "text/plain": [
              "tensor(-1.6245, grad_fn=<SelectBackward>)"
            ]
          },
          "metadata": {
            "tags": []
          },
          "execution_count": 89
        }
      ]
    },
    {
      "cell_type": "code",
      "metadata": {
        "id": "JcP3aBeXyI-A",
        "colab_type": "code",
        "colab": {}
      },
      "source": [
        "t_r = ( r - r.exp().sum(-1,keepdim=True).log()   )"
      ],
      "execution_count": null,
      "outputs": []
    },
    {
      "cell_type": "code",
      "metadata": {
        "id": "sNtDOZCJyO7Y",
        "colab_type": "code",
        "colab": {
          "base_uri": "https://localhost:8080/",
          "height": 34
        },
        "outputId": "755a183b-ee4b-400f-c0f7-76b000eb9eae"
      },
      "source": [
        "t_r[0][0]"
      ],
      "execution_count": null,
      "outputs": [
        {
          "output_type": "execute_result",
          "data": {
            "text/plain": [
              "tensor(-1.6245, grad_fn=<SelectBackward>)"
            ]
          },
          "metadata": {
            "tags": []
          },
          "execution_count": 91
        }
      ]
    },
    {
      "cell_type": "code",
      "metadata": {
        "id": "zyKSQRedyRhL",
        "colab_type": "code",
        "colab": {}
      },
      "source": [
        "m = r.max(-1)[0]\n",
        "t_r2 =  m + (x-m[:,None]).exp().sum(-1).log()"
      ],
      "execution_count": null,
      "outputs": []
    },
    {
      "cell_type": "code",
      "metadata": {
        "id": "HuJUcvT9zB62",
        "colab_type": "code",
        "colab": {
          "base_uri": "https://localhost:8080/",
          "height": 34
        },
        "outputId": "a6f9cbd0-1368-486a-cd5a-725074ff8ff4"
      },
      "source": [
        "t_r2[0]"
      ],
      "execution_count": null,
      "outputs": [
        {
          "output_type": "execute_result",
          "data": {
            "text/plain": [
              "tensor(1.7933, grad_fn=<SelectBackward>)"
            ]
          },
          "metadata": {
            "tags": []
          },
          "execution_count": 105
        }
      ]
    },
    {
      "cell_type": "markdown",
      "metadata": {
        "id": "6TBMv3cW9rgL",
        "colab_type": "text"
      },
      "source": [
        "Then, there is a more stable way to compute the log of the sum of exponentials, called the [LogSumExp](https://en.wikipedia.org/wiki/LogSumExp) trick. The idea is to use the following formula:\n",
        "\n",
        "$$\\log \\left ( \\sum_{j=1}^{n} e^{x_{j}} \\right ) = \\log \\left ( e^{a} \\sum_{j=1}^{n} e^{x_{j}-a} \\right ) = a + \\log \\left ( \\sum_{j=1}^{n} e^{x_{j}-a} \\right )$$\n",
        "\n",
        "where $a$ is the maximum of $x_{j}$.\n",
        "\n",
        "\n",
        "Here's the same thing in code:"
      ]
    },
    {
      "cell_type": "code",
      "metadata": {
        "id": "kzK5z_gr9rgN",
        "colab_type": "code",
        "colab": {
          "base_uri": "https://localhost:8080/",
          "height": 34
        },
        "outputId": "6b8a6a6f-ce37-49ed-da3c-64119cfccc47"
      },
      "source": [
        "x = torch.rand(5)\n",
        "a = x.max()\n",
        "x.exp().sum().log() == a + (x-a).exp().sum().log()"
      ],
      "execution_count": null,
      "outputs": [
        {
          "output_type": "execute_result",
          "data": {
            "text/plain": [
              "tensor(True)"
            ]
          },
          "metadata": {
            "tags": []
          },
          "execution_count": 63
        }
      ]
    },
    {
      "cell_type": "code",
      "metadata": {
        "id": "9loo54DxwZ0n",
        "colab_type": "code",
        "colab": {
          "base_uri": "https://localhost:8080/",
          "height": 34
        },
        "outputId": "5ed4c28b-5cf7-4ebe-9e12-1073abebddc4"
      },
      "source": [
        "r.shape"
      ],
      "execution_count": null,
      "outputs": [
        {
          "output_type": "execute_result",
          "data": {
            "text/plain": [
              "torch.Size([128, 10])"
            ]
          },
          "metadata": {
            "tags": []
          },
          "execution_count": 74
        }
      ]
    },
    {
      "cell_type": "code",
      "metadata": {
        "id": "06obsDqiwCwx",
        "colab_type": "code",
        "colab": {
          "base_uri": "https://localhost:8080/",
          "height": 34
        },
        "outputId": "bd80e702-16fa-4071-9041-c5cdfd87e649"
      },
      "source": [
        "len(r.max(-1))"
      ],
      "execution_count": null,
      "outputs": [
        {
          "output_type": "execute_result",
          "data": {
            "text/plain": [
              "2"
            ]
          },
          "metadata": {
            "tags": []
          },
          "execution_count": 73
        }
      ]
    },
    {
      "cell_type": "code",
      "metadata": {
        "id": "PRHiUlF4wcs1",
        "colab_type": "code",
        "colab": {
          "base_uri": "https://localhost:8080/",
          "height": 34
        },
        "outputId": "6ec5aaa6-c4bf-4f55-8b87-6db089b76e32"
      },
      "source": [
        "r.max(-1)[0].shape"
      ],
      "execution_count": null,
      "outputs": [
        {
          "output_type": "execute_result",
          "data": {
            "text/plain": [
              "torch.Size([128])"
            ]
          },
          "metadata": {
            "tags": []
          },
          "execution_count": 80
        }
      ]
    },
    {
      "cell_type": "code",
      "metadata": {
        "id": "1F55BOIewlZ3",
        "colab_type": "code",
        "colab": {
          "base_uri": "https://localhost:8080/",
          "height": 34
        },
        "outputId": "fb599539-498c-4549-a04f-eaf2184c3d0f"
      },
      "source": [
        "r.max(-1)[1].shape"
      ],
      "execution_count": null,
      "outputs": [
        {
          "output_type": "execute_result",
          "data": {
            "text/plain": [
              "torch.Size([128])"
            ]
          },
          "metadata": {
            "tags": []
          },
          "execution_count": 81
        }
      ]
    },
    {
      "cell_type": "markdown",
      "metadata": {
        "id": "TxewOSjy9rgT",
        "colab_type": "text"
      },
      "source": [
        "We'll put that into a function:"
      ]
    },
    {
      "cell_type": "code",
      "metadata": {
        "id": "uNuNzELx9rgX",
        "colab_type": "code",
        "colab": {
          "base_uri": "https://localhost:8080/",
          "height": 50
        },
        "outputId": "33065662-da27-483d-e3f6-f9a1561577b3"
      },
      "source": [
        "def logsumexp(x):\n",
        "    m = x.max(-1)[0]\n",
        "          #a + (x-a)        .exp().sum()  .log()\n",
        "    return m + (x-m[:,None]).exp().sum(-1).log()\n",
        "print(logsumexp(r).shape)\n",
        "logsumexp(r)[0]"
      ],
      "execution_count": null,
      "outputs": [
        {
          "output_type": "stream",
          "text": [
            "torch.Size([128])\n"
          ],
          "name": "stdout"
        },
        {
          "output_type": "execute_result",
          "data": {
            "text/plain": [
              "tensor(3.0307, grad_fn=<SelectBackward>)"
            ]
          },
          "metadata": {
            "tags": []
          },
          "execution_count": 96
        }
      ]
    },
    {
      "cell_type": "code",
      "metadata": {
        "id": "gyog9N7vyapq",
        "colab_type": "code",
        "colab": {
          "base_uri": "https://localhost:8080/",
          "height": 54
        },
        "outputId": "8df7d83a-cfbb-4496-d436-4112a9c35933"
      },
      "source": [
        "log_softmax(r)[0]"
      ],
      "execution_count": null,
      "outputs": [
        {
          "output_type": "execute_result",
          "data": {
            "text/plain": [
              "tensor([-1.6245, -2.5105, -3.7763, -3.2662, -2.4820, -4.5189, -1.7986, -1.5345, -2.1992, -2.6004], grad_fn=<SelectBackward>)"
            ]
          },
          "metadata": {
            "tags": []
          },
          "execution_count": 94
        }
      ]
    },
    {
      "cell_type": "markdown",
      "metadata": {
        "id": "z8SaKCBp9rge",
        "colab_type": "text"
      },
      "source": [
        "so we can use it for our `log_softmax` function:"
      ]
    },
    {
      "cell_type": "code",
      "metadata": {
        "id": "eQ87IrVM9rgf",
        "colab_type": "code",
        "colab": {}
      },
      "source": [
        "def log_softmax(x): return x - x.logsumexp(-1,keepdim=True)"
      ],
      "execution_count": null,
      "outputs": []
    },
    {
      "cell_type": "markdown",
      "metadata": {
        "id": "ZHOrePVf9rgr",
        "colab_type": "text"
      },
      "source": [
        "Which gives the same result as before:"
      ]
    },
    {
      "cell_type": "code",
      "metadata": {
        "id": "GwNCDQHq9rgt",
        "colab_type": "code",
        "colab": {
          "base_uri": "https://localhost:8080/",
          "height": 34
        },
        "outputId": "4b8cc0cf-238d-4e13-fe8c-1d83ce615c51"
      },
      "source": [
        "sm = log_softmax(r); sm[0][0]            #check the log_softmax??"
      ],
      "execution_count": null,
      "outputs": [
        {
          "output_type": "execute_result",
          "data": {
            "text/plain": [
              "tensor(-1.6245, grad_fn=<SelectBackward>)"
            ]
          },
          "metadata": {
            "tags": []
          },
          "execution_count": 85
        }
      ]
    },
    {
      "cell_type": "code",
      "metadata": {
        "id": "jiLLVyY1x1lz",
        "colab_type": "code",
        "colab": {
          "base_uri": "https://localhost:8080/",
          "height": 34
        },
        "outputId": "67234693-10a2-4df2-bc11-c943030b643d"
      },
      "source": [
        "def log_softmax_new(x): return x - log_softmax(x)\n",
        "sm_new = log_softmax_new(r); sm_new[0][0]"
      ],
      "execution_count": null,
      "outputs": [
        {
          "output_type": "execute_result",
          "data": {
            "text/plain": [
              "tensor(3.0307, grad_fn=<SelectBackward>)"
            ]
          },
          "metadata": {
            "tags": []
          },
          "execution_count": 88
        }
      ]
    },
    {
      "cell_type": "markdown",
      "metadata": {
        "id": "sjEb7s259rhA",
        "colab_type": "text"
      },
      "source": [
        "We can use these to create `cross_entropy`:"
      ]
    },
    {
      "cell_type": "code",
      "metadata": {
        "id": "eqdbEJUf9rhE",
        "colab_type": "code",
        "colab": {}
      },
      "source": [
        "def cross_entropy(preds, yb): return nll(log_softmax(preds), yb).mean()"
      ],
      "execution_count": null,
      "outputs": []
    },
    {
      "cell_type": "markdown",
      "metadata": {
        "id": "y6DZLeHT9rhP",
        "colab_type": "text"
      },
      "source": [
        "Let's now combine all those pieces together to create a `Learner`."
      ]
    },
    {
      "cell_type": "markdown",
      "metadata": {
        "id": "_VA8YGB-9rhQ",
        "colab_type": "text"
      },
      "source": [
        "## Learner"
      ]
    },
    {
      "cell_type": "markdown",
      "metadata": {
        "id": "mS1U3Mfi9rhR",
        "colab_type": "text"
      },
      "source": [
        "We have data, a model, and a loss function; we only need one more thing we can fit a model, and that's an optimizer! Here's SGD:"
      ]
    },
    {
      "cell_type": "code",
      "metadata": {
        "id": "_lb06V7S9rhS",
        "colab_type": "code",
        "colab": {}
      },
      "source": [
        "class SGD:\n",
        "    def __init__(self, params, lr, wd=0.): store_attr(self, 'params,lr,wd')\n",
        "    def step(self):\n",
        "        for p in self.params:\n",
        "            p.data -= (p.grad.data + p.data*self.wd) * self.lr\n",
        "            p.grad.data.zero_()"
      ],
      "execution_count": null,
      "outputs": []
    },
    {
      "cell_type": "markdown",
      "metadata": {
        "id": "op3ytot59rha",
        "colab_type": "text"
      },
      "source": [
        "As we've seen in this book, life is easier with a `Learner`. The `Learner` class needs to know our training and validation sets, which means we need `DataLoaders` to store them. We don't need any other functionality, just a place to store them and access them:"
      ]
    },
    {
      "cell_type": "code",
      "metadata": {
        "id": "Mge6RF499rhc",
        "colab_type": "code",
        "colab": {}
      },
      "source": [
        "class DataLoaders:\n",
        "    def __init__(self, *dls): self.train,self.valid = dls\n",
        "\n",
        "dls = DataLoaders(train_dl,valid_dl)"
      ],
      "execution_count": null,
      "outputs": []
    },
    {
      "cell_type": "markdown",
      "metadata": {
        "id": "GsViJbMm9rhi",
        "colab_type": "text"
      },
      "source": [
        "Now we're ready to create our `Learner` class:"
      ]
    },
    {
      "cell_type": "code",
      "metadata": {
        "id": "TqvhQDZA9rhj",
        "colab_type": "code",
        "colab": {}
      },
      "source": [
        "class Learner:\n",
        "    def __init__(self, model, dls, loss_func, lr, cbs, opt_func=SGD):\n",
        "        store_attr(self, 'model,dls,loss_func,lr,cbs,opt_func')\n",
        "        for cb in cbs: cb.learner = self\n",
        "\n",
        "    def one_batch(self):\n",
        "        self('before_batch')\n",
        "        xb,yb = self.batch\n",
        "        self.preds = self.model(xb)\n",
        "        self.loss = self.loss_func(self.preds, yb)\n",
        "        if self.model.training:\n",
        "            self.loss.backward()\n",
        "            self.opt.step()\n",
        "        self('after_batch')\n",
        "\n",
        "    def one_epoch(self, train):\n",
        "        self.model.training = train\n",
        "        self('before_epoch')\n",
        "        dl = self.dls.train if train else self.dls.valid\n",
        "        for self.num,self.batch in enumerate(progress_bar(dl, leave=False)):\n",
        "            self.one_batch()\n",
        "        self('after_epoch')\n",
        "    \n",
        "    def fit(self, n_epochs):\n",
        "        self('before_fit')\n",
        "        self.opt = self.opt_func(self.model.parameters(), self.lr)\n",
        "        self.n_epochs = n_epochs\n",
        "        try:\n",
        "            for self.epoch in range(n_epochs):\n",
        "                self.one_epoch(True)\n",
        "                self.one_epoch(False)\n",
        "        except CancelFitException: pass\n",
        "        self('after_fit')\n",
        "        \n",
        "    def __call__(self,name):\n",
        "        for cb in self.cbs: getattr(cb,name,noop)()"
      ],
      "execution_count": null,
      "outputs": []
    },
    {
      "cell_type": "markdown",
      "metadata": {
        "id": "lWMJDKvy9rho",
        "colab_type": "text"
      },
      "source": [
        "This is the largest class we've created in the book, but each method is quite small, so by looking at each in turn you should be able to follow what's going on.\n",
        "\n",
        "The main method we'll be calling is `fit`. This loops with:\n",
        "\n",
        "```python\n",
        "for self.epoch in range(n_epochs)\n",
        "```\n",
        "\n",
        "and at each epoch calls `self.one_epoch` for each of `train=True` and then `train=False`. Then `self.one_epoch` calls `self.one_batch` for each batch in `dls.train` or `dls.valid`, as appropriate (after wrapping the `DataLoader` in `fastprogress.progress_bar`. Finally, `self.one_batch` follows the usual set of steps to fit one mini-batch that we've seen throughout this book.\n",
        "\n",
        "Before and after each step, `Learner` calls `self`, which calls `__call__` (which is standard Python functionality). `__call__` uses `getattr(cb,name)` on each callback in `self.cbs`, which is a Python built-in function that returns the attribute (a method, in this case) with the requested name. So, for instance, `self('before_fit')` will call `cb.before_fit()` for each callback where that method is defined.\n",
        "\n",
        "As you can see, `Learner` is really just using our standard training loop, except that it's also calling callbacks at appropriate times. So let's define some callbacks!"
      ]
    },
    {
      "cell_type": "markdown",
      "metadata": {
        "id": "O8PEJPj39rhp",
        "colab_type": "text"
      },
      "source": [
        "### Callbacks"
      ]
    },
    {
      "cell_type": "markdown",
      "metadata": {
        "id": "ynTzu8Wp9rhq",
        "colab_type": "text"
      },
      "source": [
        "In `Learner.__init__` we have:\n",
        "\n",
        "```python\n",
        "for cb in cbs: cb.learner = self\n",
        "```\n",
        "\n",
        "In other words, every callback knows what learner it is used in. This is critical, since otherwise a callback can't get information from the learner, or change things in the learner. Because getting information from the learner is so common, we make that easier by defining `Callback` as a subclass of `GetAttr`, with a default attribute of `learner`:"
      ]
    },
    {
      "cell_type": "code",
      "metadata": {
        "id": "SLgQHrZ-9rhu",
        "colab_type": "code",
        "colab": {}
      },
      "source": [
        "class Callback(GetAttr): _default='learner'"
      ],
      "execution_count": null,
      "outputs": []
    },
    {
      "cell_type": "markdown",
      "metadata": {
        "id": "1Zo8h1JL9rhy",
        "colab_type": "text"
      },
      "source": [
        "`GetAttr` is a fastai class that implements Python's standard `__getattr__` and `__dir__` methods for you, such that any time you try to access an attribute that doesn't exist, it passes the request along to whatever you have defined as `_default`."
      ]
    },
    {
      "cell_type": "markdown",
      "metadata": {
        "id": "yBxOXEUj9rh0",
        "colab_type": "text"
      },
      "source": [
        "For instance, we want to move all model parameters to the GPU automatically at the start of `fit`. We could do this by defining `before_fit` as `self.learner.model.cuda()`; however, because `learner` is the default attribute, and we have `SetupLearnerCB` inherit from `Callback` (which inherits from `GetAttr`), we can remove the `.learner` and just call `self.model.cuda()`:"
      ]
    },
    {
      "cell_type": "code",
      "metadata": {
        "id": "J277j7lh9rh1",
        "colab_type": "code",
        "colab": {}
      },
      "source": [
        "class SetupLearnerCB(Callback):\n",
        "    def before_batch(self):\n",
        "        xb,yb = to_device(self.batch)\n",
        "        self.learner.batch = tfm_x(xb),yb\n",
        "\n",
        "    def before_fit(self): self.model.cuda()"
      ],
      "execution_count": null,
      "outputs": []
    },
    {
      "cell_type": "markdown",
      "metadata": {
        "id": "EJqbK8bi9rh9",
        "colab_type": "text"
      },
      "source": [
        "In `SetupLearnerCB` we also move each mini-batch to the GPU, by calling `to_device(self.batch)` (we could also have used the longer `to_device(self.learner.batch)`. Note however that in the line `self.learner.batch = tfm_x(xb),yb` we can't remove `.learner`, because here we're *setting* the attribute, not getting it.\n",
        "\n",
        "Before we try our `Learner` out, let's create a callback to track and print progress. Otherwise we won't really know if it's working properly:"
      ]
    },
    {
      "cell_type": "code",
      "metadata": {
        "id": "s2iibN6_9rh-",
        "colab_type": "code",
        "colab": {}
      },
      "source": [
        "class TrackResults(Callback):\n",
        "    def before_epoch(self): self.accs,self.losses,self.ns = [],[],[]\n",
        "        \n",
        "    def after_epoch(self):\n",
        "        n = sum(self.ns)\n",
        "        print(self.epoch, self.model.training,\n",
        "              sum(self.losses).item()/n, sum(self.accs).item()/n)\n",
        "        \n",
        "    def after_batch(self):\n",
        "        xb,yb = self.batch\n",
        "        acc = (self.preds.argmax(dim=1)==yb).float().sum()\n",
        "        self.accs.append(acc)\n",
        "        n = len(xb)\n",
        "        self.losses.append(self.loss*n)\n",
        "        self.ns.append(n)"
      ],
      "execution_count": null,
      "outputs": []
    },
    {
      "cell_type": "markdown",
      "metadata": {
        "id": "3xp_Vne09riD",
        "colab_type": "text"
      },
      "source": [
        "Now we're ready to use our `Learner` for the first time!"
      ]
    },
    {
      "cell_type": "code",
      "metadata": {
        "id": "3yAxDCo09riE",
        "colab_type": "code",
        "colab": {}
      },
      "source": [
        "cbs = [SetupLearnerCB(),TrackResults()]\n",
        "learn = Learner(simple_cnn(), dls, cross_entropy, lr=0.1, cbs=cbs)\n",
        "learn.fit(1)"
      ],
      "execution_count": null,
      "outputs": []
    },
    {
      "cell_type": "markdown",
      "metadata": {
        "id": "dRuPgGUZ9riI",
        "colab_type": "text"
      },
      "source": [
        "It's quite amazing to realize that we can implement all the key ideas from fastai's `Learner` in so little code! Let's now add some learning rate scheduling."
      ]
    },
    {
      "cell_type": "markdown",
      "metadata": {
        "id": "Yd8BqVug9riJ",
        "colab_type": "text"
      },
      "source": [
        "### Scheduling the Learning Rate"
      ]
    },
    {
      "cell_type": "markdown",
      "metadata": {
        "id": "jKg_Gav39riJ",
        "colab_type": "text"
      },
      "source": [
        "If we're going to get good results, we'll want an LR finder and 1cycle training. These are both *annealing* callbacks—that is, they are gradually changing hyperparameters as we train. Here's `LRFinder`:"
      ]
    },
    {
      "cell_type": "code",
      "metadata": {
        "id": "Grh9JVUm9riJ",
        "colab_type": "code",
        "colab": {}
      },
      "source": [
        "class LRFinder(Callback):\n",
        "    def before_fit(self):\n",
        "        self.losses,self.lrs = [],[]\n",
        "        self.learner.lr = 1e-6\n",
        "        \n",
        "    def before_batch(self):\n",
        "        if not self.model.training: return\n",
        "        self.opt.lr *= 1.2\n",
        "\n",
        "    def after_batch(self):\n",
        "        if not self.model.training: return\n",
        "        if self.opt.lr>10 or torch.isnan(self.loss): raise CancelFitException\n",
        "        self.losses.append(self.loss.item())\n",
        "        self.lrs.append(self.opt.lr)"
      ],
      "execution_count": null,
      "outputs": []
    },
    {
      "cell_type": "markdown",
      "metadata": {
        "id": "UN6tc7Xp9riM",
        "colab_type": "text"
      },
      "source": [
        "This shows how we're using `CancelFitException`, which is itself an empty class, only used to signify the type of exception. You can see in `Learner` that this exception is caught. (You should add and test `CancelBatchException`, `CancelEpochException`, etc. yourself.) Let's try it out, by adding it to our list of callbacks:"
      ]
    },
    {
      "cell_type": "code",
      "metadata": {
        "id": "Fyb38T-v9riO",
        "colab_type": "code",
        "colab": {}
      },
      "source": [
        "lrfind = LRFinder()\n",
        "learn = Learner(simple_cnn(), dls, cross_entropy, lr=0.1, cbs=cbs+[lrfind])\n",
        "learn.fit(2)"
      ],
      "execution_count": null,
      "outputs": []
    },
    {
      "cell_type": "markdown",
      "metadata": {
        "id": "J66PUIt29riT",
        "colab_type": "text"
      },
      "source": [
        "And take a look at the results:"
      ]
    },
    {
      "cell_type": "code",
      "metadata": {
        "id": "ITEiWZmc9riT",
        "colab_type": "code",
        "colab": {}
      },
      "source": [
        "plt.plot(lrfind.lrs[:-2],lrfind.losses[:-2])\n",
        "plt.xscale('log')"
      ],
      "execution_count": null,
      "outputs": []
    },
    {
      "cell_type": "markdown",
      "metadata": {
        "id": "BEZ4mRgq9rin",
        "colab_type": "text"
      },
      "source": [
        "Now we can define our `OneCycle` training callback:"
      ]
    },
    {
      "cell_type": "code",
      "metadata": {
        "id": "BWNdcfTr9rip",
        "colab_type": "code",
        "colab": {}
      },
      "source": [
        "class OneCycle(Callback):\n",
        "    def __init__(self, base_lr): self.base_lr = base_lr\n",
        "    def before_fit(self): self.lrs = []\n",
        "\n",
        "    def before_batch(self):\n",
        "        if not self.model.training: return\n",
        "        n = len(self.dls.train)\n",
        "        bn = self.epoch*n + self.num\n",
        "        mn = self.n_epochs*n\n",
        "        pct = bn/mn\n",
        "        pct_start,div_start = 0.25,10\n",
        "        if pct<pct_start:\n",
        "            pct /= pct_start\n",
        "            lr = (1-pct)*self.base_lr/div_start + pct*self.base_lr\n",
        "        else:\n",
        "            pct = (pct-pct_start)/(1-pct_start)\n",
        "            lr = (1-pct)*self.base_lr\n",
        "        self.opt.lr = lr\n",
        "        self.lrs.append(lr)"
      ],
      "execution_count": null,
      "outputs": []
    },
    {
      "cell_type": "markdown",
      "metadata": {
        "id": "YF-axLnM9rit",
        "colab_type": "text"
      },
      "source": [
        "We'll try an LR of 0.1:"
      ]
    },
    {
      "cell_type": "code",
      "metadata": {
        "id": "ibJhbT7V9riu",
        "colab_type": "code",
        "colab": {}
      },
      "source": [
        "onecyc = OneCycle(0.1)\n",
        "learn = Learner(simple_cnn(), dls, cross_entropy, lr=0.1, cbs=cbs+[onecyc])"
      ],
      "execution_count": null,
      "outputs": []
    },
    {
      "cell_type": "markdown",
      "metadata": {
        "id": "hiWSEMcw9ri7",
        "colab_type": "text"
      },
      "source": [
        "Let's fit for a while and see how it looks (we won't show all the output in the book—try it in the notebook to see the results):"
      ]
    },
    {
      "cell_type": "code",
      "metadata": {
        "id": "IbTUmRlS9ri8",
        "colab_type": "code",
        "colab": {}
      },
      "source": [
        "#hide_output\n",
        "learn.fit(8)"
      ],
      "execution_count": null,
      "outputs": []
    },
    {
      "cell_type": "markdown",
      "metadata": {
        "id": "Xn0wBH_p9rjB",
        "colab_type": "text"
      },
      "source": [
        "Finally, we'll check that the learning rate followed the schedule we defined (as you see, we're not using cosine annealing here):"
      ]
    },
    {
      "cell_type": "code",
      "metadata": {
        "id": "o4X3_c6F9rjE",
        "colab_type": "code",
        "colab": {}
      },
      "source": [
        "plt.plot(onecyc.lrs);"
      ],
      "execution_count": null,
      "outputs": []
    },
    {
      "cell_type": "markdown",
      "metadata": {
        "id": "R3Kqryo99rjL",
        "colab_type": "text"
      },
      "source": [
        "## Conclusion"
      ]
    },
    {
      "cell_type": "markdown",
      "metadata": {
        "id": "ZEt7wu4y9rjM",
        "colab_type": "text"
      },
      "source": [
        "We have explored the key concepts of the fastai library are implemented by re-implementing them in this chapter. Since it's mostly full of code, you should definitely try to experiment with it by looking at the corresponding notebook on the book's website. Now that you know how it's built, as a next step be sure to check out the intermediate and advanced tutorials in the fastai documentation to learn how to customize every bit of the libraryt."
      ]
    },
    {
      "cell_type": "markdown",
      "metadata": {
        "id": "b2yBVRLA9rjN",
        "colab_type": "text"
      },
      "source": [
        "## Questionnaire"
      ]
    },
    {
      "cell_type": "markdown",
      "metadata": {
        "id": "yr9od9mC9rjP",
        "colab_type": "text"
      },
      "source": [
        "> tip: Experiments: For the questions here that ask you to explain what some function or class is, you should also complete your own code experiments."
      ]
    },
    {
      "cell_type": "markdown",
      "metadata": {
        "id": "cqMd95t-9rjS",
        "colab_type": "text"
      },
      "source": [
        "1. What is `glob`?\n",
        "1. How do you open an image with the Python imaging library?\n",
        "1. What does `L.map` do?\n",
        "1. What does `Self` do?\n",
        "1. What is `L.val2idx`?\n",
        "1. What methods do you need to implement to create your own `Dataset`?\n",
        "1. Why do we call `convert` when we open an image from Imagenette?\n",
        "1. What does `~` do? How is it useful for splitting training and validation sets?\n",
        "1. Does `~` work with the `L` or `Tensor` classes? What about NumPy arrays, Python lists, or pandas DataFrames?\n",
        "1. What is `ProcessPoolExecutor`?\n",
        "1. How does `L.range(self.ds)` work?\n",
        "1. What is `__iter__`?\n",
        "1. What is `first`?\n",
        "1. What is `permute`? Why is it needed?\n",
        "1. What is a recursive function? How does it help us define the `parameters` method?\n",
        "1. Write a recursive function that returns the first 20 items of the Fibonacci sequence.\n",
        "1. What is `super`?\n",
        "1. Why do subclasses of `Module` need to override `forward` instead of defining `__call__`?\n",
        "1. In `ConvLayer`, why does `init` depend on `act`?\n",
        "1. Why does `Sequential` need to call `register_modules`?\n",
        "1. Write a hook that prints the shape of every layer's activations.\n",
        "1. What is \"LogSumExp\"?\n",
        "1. Why is `log_softmax` useful?\n",
        "1. What is `GetAttr`? How is it helpful for callbacks?\n",
        "1. Reimplement one of the callbacks in this chapter without inheriting from `Callback` or `GetAttr`.\n",
        "1. What does `Learner.__call__` do?\n",
        "1. What is `getattr`? (Note the case difference to `GetAttr`!)\n",
        "1. Why is there a `try` block in `fit`?\n",
        "1. Why do we check for `model.training` in `one_batch`?\n",
        "1. What is `store_attr`?\n",
        "1. What is the purpose of `TrackResults.before_epoch`?\n",
        "1. What does `model.cuda` do? How does it work?\n",
        "1. Why do we need to check `model.training` in `LRFinder` and `OneCycle`?\n",
        "1. Use cosine annealing in `OneCycle`."
      ]
    },
    {
      "cell_type": "markdown",
      "metadata": {
        "id": "56NrSDog9rjT",
        "colab_type": "text"
      },
      "source": [
        "### Further Research"
      ]
    },
    {
      "cell_type": "markdown",
      "metadata": {
        "id": "RDUE5ndN9rjT",
        "colab_type": "text"
      },
      "source": [
        "1. Write `resnet18` from scratch (refer to <<chapter_resnet>> as needed), and train it with the `Learner` in this chapter.\n",
        "1. Implement a batchnorm layer from scratch and use it in your `resnet18`.\n",
        "1. Write a Mixup callback for use in this chapter.\n",
        "1. Add momentum to SGD.\n",
        "1. Pick a few features that you're interested in from fastai (or any other library) and implement them in this chapter.\n",
        "1. Pick a research paper that's not yet implemented in fastai or PyTorch and implement it in this chapter.\n",
        "  - Port it over to fastai.\n",
        "  - Submit a pull request to fastai, or create your own extension module and release it. \n",
        "  - Hint: you may find it helpful to use [`nbdev`](https://nbdev.fast.ai/) to create and deploy your package."
      ]
    },
    {
      "cell_type": "code",
      "metadata": {
        "id": "sstjRjaO9rjV",
        "colab_type": "code",
        "colab": {}
      },
      "source": [
        ""
      ],
      "execution_count": null,
      "outputs": []
    },
    {
      "cell_type": "code",
      "metadata": {
        "id": "uRSttNODVMND",
        "colab_type": "code",
        "colab": {}
      },
      "source": [
        ""
      ],
      "execution_count": null,
      "outputs": []
    }
  ]
}